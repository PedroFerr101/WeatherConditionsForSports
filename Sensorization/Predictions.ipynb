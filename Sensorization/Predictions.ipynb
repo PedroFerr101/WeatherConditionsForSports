{
 "cells": [
  {
   "cell_type": "markdown",
   "metadata": {},
   "source": [
    "# TP2 - Sistemas Autónomos\n",
    "#### \"Monitorização de parâmetros ambientais para a prática de desporto\""
   ]
  },
  {
   "cell_type": "markdown",
   "metadata": {},
   "source": [
    "## Import Libraries"
   ]
  },
  {
   "cell_type": "code",
   "execution_count": null,
   "metadata": {},
   "outputs": [],
   "source": [
    "import sys\n",
    "import config\n",
    "import firebase_admin\n",
    "from firebase_admin import auth, credentials, firestore\n",
    "import numpy as np\n",
    "import pandas as pd\n",
    "from sklearn.preprocessing import MinMaxScaler\n",
    "from sklearn.metrics import mean_squared_error, mean_absolute_error\n",
    "import tensorflow as tf\n",
    "import matplotlib.pyplot as plt\n",
    "import pprint\n",
    "import math\n",
    "pp = pprint.PrettyPrinter()"
   ]
  },
  {
   "cell_type": "markdown",
   "metadata": {},
   "source": [
    "## Get the Data\n"
   ]
  },
  {
   "cell_type": "code",
   "execution_count": null,
   "metadata": {},
   "outputs": [],
   "source": [
    "# Get the key\n",
    "cred = credentials.Certificate(config.firestore_key)\n",
    "\n",
    "# Initialize/Get the app\n",
    "try:\n",
    "    app = firebase_admin.initialize_app(cred)\n",
    "except:\n",
    "    app = firebase_admin.get_app()\n",
    "\n",
    "# Get the database\n",
    "db = firestore.client()\n",
    "\n",
    "pd.set_option('display.max_columns', None)\n",
    "\n",
    "# ------- Open Weather Map -------\n",
    "\n",
    "dataWM = pd.DataFrame(columns=['feels_like','general_weather','humidity','pressure','temp','temp_min','temp_max','wind_speed'])\n",
    "\n",
    "wm_ref = db.collection(u'WM')\n",
    "docsWM = wm_ref.stream()\n",
    "\n",
    "for doc in docsWM:\n",
    "    params = doc.to_dict()\n",
    "    dataWM = dataWM.append({'feels_like': float(params['feels_like'])-273.15, 'general_weather':params['general_weather'], 'humidity': int(params['humidity']), 'pressure': int(params['pressure']),'temp_min': float(params['temp_min'])-273.15, 'temp_max': float(params['temp_max'])-273.15, 'wind_speed': float(params['wind_speed'])}, ignore_index=True) # falta \"'temp_min': float(params['temp_min'])-273.15,\"\n",
    "\n",
    "\n",
    "# ------- Open UV -------\n",
    "\n",
    "dataUV = pd.DataFrame(columns=['uv','uv_time','uv_max','uv_max_time','st1','st2','st3','st4','st5','st6'])\n",
    "\n",
    "uv_ref = db.collection(u'UV')\n",
    "docsUV = uv_ref.stream()\n",
    "\n",
    "for doc in docsUV:\n",
    "    params = doc.to_dict()\n",
    "    dataUV = dataUV.append({'uv': float(params['uv']), 'uv_time': params['uv_time'], 'uv_max': float(params['uv_max']), 'uv_max_time': params['uv_max_time'], 'st1': params['st1'], 'st2': params['st2'], 'st3': params['st3'], 'st4': params['st4'], 'st5': params['st5'], 'st6': params['st6']}, ignore_index=True)\n",
    "\n"
   ]
  },
  {
   "cell_type": "markdown",
   "metadata": {},
   "source": [
    "## Create Dataframes and normalize"
   ]
  },
  {
   "cell_type": "code",
   "execution_count": null,
   "metadata": {},
   "outputs": [],
   "source": [
    "def prepare_data(df):\n",
    "    feels_like_history = df[['feels_like']]\n",
    "    humidity_history = df[['humidity']]\n",
    "    return feels_like_history, humidity_history\n",
    "\n",
    "def prepare_uv_data(df):\n",
    "    uv_history = df[['uv']]\n",
    "    return uv_history\n",
    "\n",
    "def normalize_weather_data(df):\n",
    "    scaler = MinMaxScaler(feature_range=(0, 1))\n",
    "    df = scaler.fit_transform(df[['feels_like']])\n",
    "    return scaler, df\n",
    "\n",
    "def normalize_humidity_data(df):\n",
    "    scaler = MinMaxScaler(feature_range=(0, 1))\n",
    "    df = scaler.fit_transform(df[['humidity']])\n",
    "    return scaler, df\n",
    "\n",
    "def normalize_uv_data(df):\n",
    "    scaler = MinMaxScaler(feature_range=(0, 1))\n",
    "    df = scaler.fit_transform(df[['uv']])\n",
    "    return scaler, df\n",
    "\n",
    "df, df_h = prepare_data(dataWM)\n",
    "df_u = prepare_uv_data(dataUV)\n",
    "\n",
    "scaler, df = normalize_weather_data(df)\n",
    "scaler_h, df_h = normalize_humidity_data(df_h)\n",
    "scaler_u, df_u = normalize_uv_data(df_u)\n",
    "\n"
   ]
  },
  {
   "cell_type": "markdown",
   "metadata": {},
   "source": [
    "## Dataset supervised train"
   ]
  },
  {
   "cell_type": "code",
   "execution_count": null,
   "metadata": {},
   "outputs": [],
   "source": [
    "def to_supervised(df, timesteps):\n",
    "    data = df  # array de arrays com os valores\n",
    "    X, y = list(), list()\n",
    "    dataset_size = len(data)  # nr de linhas\n",
    "    for curr_pos in range(dataset_size):\n",
    "        input_index = curr_pos+timesteps\n",
    "        label_index = input_index+1\n",
    "        if label_index < dataset_size:\n",
    "            X.append(data[curr_pos:input_index, :])\n",
    "            y.append(data[input_index:label_index, 0])\n",
    "    return np.array(X), np.array(y)\n",
    "\n",
    "timesteps = 168 # 24 registos de temperatura capturados ao longo de 7 dias\n",
    "X, y = to_supervised(df, timesteps)\n",
    "X_h, y_h = to_supervised(df_h, timesteps)\n",
    "X_u, y_u = to_supervised(df_u, timesteps)\n",
    "\n",
    "print(X.shape)\n",
    "print(y.shape)\n"
   ]
  },
  {
   "cell_type": "markdown",
   "metadata": {},
   "source": [
    "## LSTM"
   ]
  },
  {
   "cell_type": "code",
   "execution_count": null,
   "metadata": {},
   "outputs": [],
   "source": [
    "timesteps = 168\n",
    "features = 1\n",
    "\n",
    "def build_model(timesteps, features, dropout_rate=0):\n",
    "    model = tf.keras.Sequential()\n",
    "    model.add(tf.keras.layers.LSTM(64, return_sequences=True,\n",
    "                                   input_shape=(timesteps, features)))\n",
    "    model.add(tf.keras.layers.LSTM(\n",
    "        128, return_sequences=True, dropout=dropout_rate))\n",
    "    model.add(tf.keras.layers.LSTM(\n",
    "        128, return_sequences=True, dropout=dropout_rate))\n",
    "    model.add(tf.keras.layers.LSTM(\n",
    "        128, return_sequences=False, dropout=dropout_rate))\n",
    "    model.add(tf.keras.layers.Dense(64, activation='sigmoid'))\n",
    "    model.add(tf.keras.layers.Dropout(dropout_rate))\n",
    "    model.add(tf.keras.layers.Dense(features, activation='linear'))\n",
    "    model.compile(\n",
    "        loss=tf.keras.losses.mse,\n",
    "        optimizer=tf.keras.optimizers.Adam(),\n",
    "        metrics=['accuracy'])\n",
    "    print(model.summary())\n",
    "    return model\n",
    "\n",
    "model = build_model(timesteps, features)\n",
    "model_h = build_model(timesteps, features)\n",
    "model_u = build_model(timesteps, features)\n"
   ]
  },
  {
   "cell_type": "markdown",
   "metadata": {},
   "source": [
    "### Fit"
   ]
  },
  {
   "cell_type": "code",
   "execution_count": null,
   "metadata": {
    "scrolled": true
   },
   "outputs": [],
   "source": [
    "batch_size = 16\n",
    "\n",
    "model.fit(X, y, shuffle=False, epochs=50, verbose=1, batch_size=batch_size)"
   ]
  },
  {
   "cell_type": "code",
   "execution_count": null,
   "metadata": {
    "scrolled": false
   },
   "outputs": [],
   "source": [
    "model_h.fit(X_h, y_h, shuffle=False, epochs=50, verbose=1, batch_size=batch_size)"
   ]
  },
  {
   "cell_type": "code",
   "execution_count": null,
   "metadata": {},
   "outputs": [],
   "source": [
    "model_u.fit(X_u, y_u, shuffle=False, epochs=50, verbose=1, batch_size=batch_size)"
   ]
  },
  {
   "cell_type": "markdown",
   "metadata": {},
   "source": [
    "## Evaluation"
   ]
  },
  {
   "cell_type": "code",
   "execution_count": null,
   "metadata": {
    "scrolled": false
   },
   "outputs": [],
   "source": [
    "testRegisters = dataWM\n",
    "\n",
    "\n",
    "def forecastEvaluate(model, data, timesteps, pred):\n",
    "    predictions, registed = list(), list()\n",
    "\n",
    "    if pred == \"Weather\" :\n",
    "        df_w, _ = prepare_data(data)\n",
    "        original = df_w.copy()\n",
    "        scaler, df = normalize_weather_data(df_w)\n",
    "    elif pred == \"Humidity\":\n",
    "        _, df_h = prepare_data(data)\n",
    "        original = df_h.copy()\n",
    "        scaler, df = normalize_humidity_data(df_h)\n",
    "    else:\n",
    "        df_u = prepare_uv_data(data)\n",
    "        original = df_u.copy()\n",
    "        scaler, df = normalize_uv_data(df_u)\n",
    "\n",
    " \n",
    "    for step in range(0, len(data)-timesteps):\n",
    "        predictingRegisterNrm = timesteps + step\n",
    "        inp = df[step:timesteps+step]\n",
    "        inp = inp.reshape(1, timesteps, 1)\n",
    "        \n",
    "        yhat = model.predict(inp, verbose=1)\n",
    "        yhat_inversed = scaler.inverse_transform(yhat)\n",
    "        \n",
    "        predictions.append(yhat_inversed[0][0])\n",
    "        registed.append(original.iloc[predictingRegisterNrm, 0])\n",
    "        \n",
    "    return predictions, registed\n",
    "    \n",
    "\n",
    "predictions, registed  = forecastEvaluate(model, testRegisters, timesteps, \"Weather\")    \n",
    "predictions_h, registed_h  = forecastEvaluate(model_h, testRegisters, timesteps, \"Humidity\")    \n",
    "predictions_u, registed_u  = forecastEvaluate(model_u, dataUV, timesteps, \"UV\")    \n"
   ]
  },
  {
   "cell_type": "markdown",
   "metadata": {},
   "source": [
    "#### Plot predicted weather (validated against train data)"
   ]
  },
  {
   "cell_type": "code",
   "execution_count": null,
   "metadata": {},
   "outputs": [],
   "source": [
    "def plotWeatherDataset(data, predictions):\n",
    "    plt.figure(figsize=(8, 6))\n",
    "    plt.plot(range(len(data)), data, color='blue', label='Registed Values')\n",
    "    plt.plot(range(len(predictions)), predictions, color='red', label='Prediction')\n",
    "    plt.title('Weather')\n",
    "    plt.ylim(0,30) \n",
    "    plt.ylabel('Feels_like')\n",
    "    plt.xlabel('Ordem de registo')\n",
    "    plt.show()\n",
    "    \n",
    "plotWeatherDataset(registed, predictions)\n"
   ]
  },
  {
   "cell_type": "code",
   "execution_count": null,
   "metadata": {},
   "outputs": [],
   "source": [
    "trainScore = math.sqrt(mean_squared_error(registed, predictions))\n",
    "print('Train Score: %.2f RMSE' % (trainScore))\n",
    "trainScore = mean_absolute_error(registed, predictions)\n",
    "print('Train Score: %.2f MAE' % (trainScore))"
   ]
  },
  {
   "cell_type": "markdown",
   "metadata": {},
   "source": [
    "#### Plot predicted humidity (validated against train data)"
   ]
  },
  {
   "cell_type": "code",
   "execution_count": null,
   "metadata": {},
   "outputs": [],
   "source": [
    "def plotHumidityDataset(data, predictions):\n",
    "    plt.figure(figsize=(8, 6))\n",
    "    plt.plot(range(len(data)), data, color='blue', label='Registed Values')\n",
    "    plt.plot(range(len(predictions)), predictions, color='red', label='Predicted Values')\n",
    "    plt.title('Humidity')\n",
    "    plt.ylim(50,100) \n",
    "    plt.ylabel('Humidity (%)')\n",
    "    plt.xlabel('Ordem de registo')\n",
    "    plt.show()\n",
    "    \n",
    "plotHumidityDataset(registed_h, predictions_h)"
   ]
  },
  {
   "cell_type": "code",
   "execution_count": null,
   "metadata": {},
   "outputs": [],
   "source": [
    "trainScore = math.sqrt(mean_squared_error(registed_h, predictions_h))\n",
    "print('Train Score: %.2f RMSE' % (trainScore))\n",
    "trainScore = mean_absolute_error(registed_h, predictions_h)\n",
    "print('Train Score: %.2f MAE' % (trainScore))"
   ]
  },
  {
   "cell_type": "markdown",
   "metadata": {},
   "source": [
    "#### Plot predicted UV level (validated against train data)"
   ]
  },
  {
   "cell_type": "code",
   "execution_count": null,
   "metadata": {},
   "outputs": [],
   "source": [
    "def plotUvDataset(data, predictions):\n",
    "    plt.figure(figsize=(8, 6))\n",
    "    plt.plot(range(len(data)), data, color='blue', label='Registed Values')\n",
    "    plt.plot(range(len(predictions)), predictions, color='red', label='Predicted Values')\n",
    "    plt.title('UV')\n",
    "    plt.ylim(0,10) \n",
    "    plt.ylabel('UV')\n",
    "    plt.xlabel('Ordem de registo')\n",
    "    plt.show()\n",
    "    \n",
    "plotUvDataset(registed_u, predictions_u)"
   ]
  },
  {
   "cell_type": "code",
   "execution_count": null,
   "metadata": {},
   "outputs": [],
   "source": [
    "trainScore = math.sqrt(mean_squared_error(registed_u, predictions_u))\n",
    "print('Train Score: %.2f RMSE' % (trainScore))\n",
    "trainScore = mean_absolute_error(registed_u, predictions_u)\n",
    "print('Train Score: %.2f MAE' % (trainScore))"
   ]
  },
  {
   "cell_type": "markdown",
   "metadata": {},
   "source": [
    "## Evaluate predictions"
   ]
  },
  {
   "cell_type": "code",
   "execution_count": null,
   "metadata": {},
   "outputs": [],
   "source": [
    "targetWeather, targetHumidity = prepare_data(dataWM[240:264])\n",
    "targetUV = prepare_uv_data(dataUV[240:264])\n",
    "\n",
    "inputUv = prepare_uv_data(dataUV[72:240])\n",
    "inputWeather, inputHumidity = prepare_data(dataWM[72:240])\n",
    "\n",
    "scaler_w, inputWeather = normalize_weather_data(inputWeather)\n",
    "scaler_h, inputHumidity = normalize_humidity_data(inputHumidity)\n",
    "scaler_u, inputUv = normalize_uv_data(inputUv)\n",
    "\n",
    "\n",
    "def forecast(model, df, timesteps, multisteps, scaler):\n",
    "    input_seq = df[-timesteps:]\n",
    "    inp = input_seq\n",
    "    predictions = list()\n",
    "    \n",
    "    for step in range(1, multisteps+1):\n",
    "        inp = inp.reshape(1, timesteps, 1)\n",
    "        yhat = model.predict(inp, verbose=1)\n",
    "        yhat_inversed = scaler.inverse_transform(yhat)\n",
    "        predictions.append(yhat_inversed[0][0])\n",
    "        inp = np.append(inp[0], yhat)\n",
    "        inp = inp[-timesteps:]\n",
    "    return predictions\n"
   ]
  },
  {
   "cell_type": "code",
   "execution_count": null,
   "metadata": {},
   "outputs": [],
   "source": [
    "predictions_w = forecast(model, inputWeather, 168, 24, scaler_w)\n",
    "plotWeatherDataset(targetWeather, predictions_w)"
   ]
  },
  {
   "cell_type": "code",
   "execution_count": null,
   "metadata": {},
   "outputs": [],
   "source": [
    "predictions_h = forecast(model, inputHumidity, 168, 24, scaler_h)\n",
    "plotHumidityDataset(targetHumidity, predictions_h)"
   ]
  },
  {
   "cell_type": "code",
   "execution_count": null,
   "metadata": {},
   "outputs": [],
   "source": [
    "predictions_u = forecast(model, inputUv, 168, 24, scaler_u)\n",
    "plotUvDataset(targetUV, predictions_u)"
   ]
  },
  {
   "cell_type": "markdown",
   "metadata": {},
   "source": [
    "## Forecast"
   ]
  },
  {
   "cell_type": "code",
   "execution_count": null,
   "metadata": {},
   "outputs": [],
   "source": [
    "multistep = 24\n",
    "\n",
    "def forecast(model, df, timesteps, multisteps, scaler):\n",
    "    input_seq = df[-timesteps:]\n",
    "    inp = input_seq\n",
    "    predictions = list()\n",
    "    \n",
    "    for step in range(1, multisteps+1):\n",
    "        inp = inp.reshape(1, timesteps, 1)\n",
    "        yhat = model.predict(inp, verbose=1)\n",
    "        yhat_inversed = scaler.inverse_transform(yhat)\n",
    "        predictions.append(yhat_inversed[0][0])\n",
    "        inp = np.append(inp[0], yhat)\n",
    "        inp = inp[-timesteps:]\n",
    "    return predictions\n"
   ]
  },
  {
   "cell_type": "markdown",
   "metadata": {},
   "source": [
    "#### Plot weather forecasted for next 24 h"
   ]
  },
  {
   "cell_type": "code",
   "execution_count": null,
   "metadata": {},
   "outputs": [],
   "source": [
    "predictionsWeatherNext24 = forecast(model, df, timesteps, multistep, scaler)\n",
    "\n",
    "def plotForecastedWeather(data, predictions):\n",
    "    plt.figure(figsize=(8, 6))\n",
    "    plt.plot(range(len(data)), data, color='blue', label='Registed Values')\n",
    "    plt.plot(range(len(data)-1, len(data)+len(predictions)-1), predictions, color='red', label='Prediction')\n",
    "    plt.title('Weather')\n",
    "    plt.ylim(0,30) \n",
    "    plt.ylabel('Feels_like')\n",
    "    plt.xlabel('Ordem de registo')\n",
    "    plt.show()\n",
    "\n",
    "\n",
    "data, _ = prepare_data(dataWM)\n",
    "last_48h = data[-48:]\n",
    "plotForecastedWeather(last_48h, predictionsWeatherNext24)"
   ]
  },
  {
   "cell_type": "markdown",
   "metadata": {},
   "source": [
    "#### Plot humidity forecasted for next 24 h"
   ]
  },
  {
   "cell_type": "code",
   "execution_count": null,
   "metadata": {},
   "outputs": [],
   "source": [
    "predictionsHumidityNext24 = forecast(model, df_h, timesteps, multistep, scaler_h)\n",
    "\n",
    "def plotForecastedWeather(data, predictions):\n",
    "    plt.figure(figsize=(8, 6))\n",
    "    plt.plot(range(len(data)), data, color='blue', label='Registed Values')\n",
    "    plt.plot(range(len(data)-1, len(data)+len(predictions)-1), predictions, color='red', label='Prediction')\n",
    "    plt.title('Humidity predictions for the next 24 hours')\n",
    "    plt.ylim(0,105) \n",
    "    plt.ylabel('Humidity (%)')\n",
    "    plt.xlabel('Ordem de registo')\n",
    "    plt.show()\n",
    "\n",
    "\n",
    "_, data = prepare_data(dataWM)\n",
    "last_48h = data[-48:]\n",
    "plotForecastedWeather(last_48h, predictionsHumidityNext24)"
   ]
  },
  {
   "cell_type": "markdown",
   "metadata": {},
   "source": [
    "#### Plot UV forecasted for next 24 h"
   ]
  },
  {
   "cell_type": "code",
   "execution_count": null,
   "metadata": {},
   "outputs": [],
   "source": [
    "predictionsUVNext24 = forecast(model, df_u, timesteps, multistep, scaler_u)\n",
    "\n",
    "def plotForecastedWeather(data, predictions):\n",
    "    plt.figure(figsize=(8, 6))\n",
    "    plt.plot(range(len(data)), data, color='blue', label='Registed Values')\n",
    "    plt.plot(range(len(data)-1, len(data)+len(predictions)-1), predictions, color='red', label='Prediction')\n",
    "    plt.title('UV predictions for the next 24 hours')\n",
    "    plt.ylim(0,30) \n",
    "    plt.ylabel('UV level')\n",
    "    plt.xlabel('Ordem de registo')\n",
    "    plt.show()\n",
    "\n",
    "\n",
    "data = prepare_uv_data(dataUV)\n",
    "last_48h = data[-48:]\n",
    "plotForecastedWeather(last_48h, predictionsUVNext24)"
   ]
  },
  {
   "cell_type": "markdown",
   "metadata": {},
   "source": [
    "## Classifying the predictions"
   ]
  },
  {
   "cell_type": "code",
   "execution_count": null,
   "metadata": {},
   "outputs": [],
   "source": [
    "def weather_classifier(temp, humidity, uv):\n",
    "    labels = []\n",
    "\n",
    "    for i in range(24):\n",
    "        score = 0\n",
    "        \n",
    "        if(temp[i] >= 15 and temp[i] <= 20):\n",
    "            score = score + 3\n",
    "        elif(temp[i] >= 10 and temp[i] <= 15):\n",
    "            score = score + 2\n",
    "        elif(temp[i] < 10 or temp[i] > 20):\n",
    "            score = score - 1\n",
    "        elif(temp[i] < 5 or temp[i] > 25):\n",
    "            score = score - 2\n",
    "        \n",
    "        if(humidity[i] < 50):\n",
    "            score = score + 1\n",
    "        elif(humidity[i] > 80):\n",
    "            score = score - 2\n",
    "\n",
    "        if(uv[i] <= 3.0):\n",
    "            score = score + 2\n",
    "        elif(uv[i] <= 5.9):\n",
    "            score = score + 1\n",
    "        elif(uv[i] >= 8.0):\n",
    "            score = score - 1\n",
    "        \n",
    "        if(score >= 4):\n",
    "            labels.append(3)\n",
    "        elif(score < 4 and score >= 3):\n",
    "            labels.append(2)\n",
    "        elif(score < 3):\n",
    "            labels.append(1)\n",
    "    \n",
    "    return labels\n",
    "\n",
    "scores = weather_classifier(predictionsWeatherNext24, predictionsHumidityNext24, predictionsUVNext24)\n",
    "scores"
   ]
  },
  {
   "cell_type": "markdown",
   "metadata": {},
   "source": [
    "## Aggregate results"
   ]
  },
  {
   "cell_type": "code",
   "execution_count": null,
   "metadata": {},
   "outputs": [],
   "source": [
    "import pytz\n",
    "from datetime import datetime\n",
    "\n",
    "\n",
    "last_hour = round(dataWM.iloc[-1:,5])\n",
    "\n",
    "hours = []\n",
    "for i in range(1,25):\n",
    "    hours.append((last_hour + i) % 24)\n",
    "\n",
    "\n",
    "data = {\n",
    "    u'hours': list(map(float, hours)),\n",
    "    u'weather_predictions': list(map(float,predictionsWeatherNext24)),\n",
    "    u'humidity_predictions': list(map(float,predictionsHumidityNext24)),\n",
    "    u'uv_predictions': list(map(float,predictionsUVNext24)),\n",
    "    u'scores': list(map(float,scores))\n",
    "}\n",
    "\n",
    "\n",
    "\n",
    "date_time = datetime.now()\n",
    "\n",
    "db.collection(u'Predictions').document(f'{date_time}').set(data)    \n",
    "\n"
   ]
  }
 ],
 "metadata": {
  "kernelspec": {
   "display_name": "Python 3.7.6 64-bit ('Sensorization': pipenv)",
   "language": "python",
   "name": "python37664bitsensorizationpipenvb08871551dee4fca81bab2404db1909d"
  },
  "language_info": {
   "codemirror_mode": {
    "name": "ipython",
    "version": 3
   },
   "file_extension": ".py",
   "mimetype": "text/x-python",
   "name": "python",
   "nbconvert_exporter": "python",
   "pygments_lexer": "ipython3",
   "version": "3.7.6"
  }
 },
 "nbformat": 4,
 "nbformat_minor": 2
}
