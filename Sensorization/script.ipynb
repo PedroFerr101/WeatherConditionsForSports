{
 "nbformat": 4,
 "nbformat_minor": 2,
 "metadata": {
  "language_info": {
   "name": "python",
   "codemirror_mode": {
    "name": "ipython",
    "version": 3
   },
   "version": "3.7.6-final"
  },
  "orig_nbformat": 2,
  "file_extension": ".py",
  "mimetype": "text/x-python",
  "name": "python",
  "npconvert_exporter": "python",
  "pygments_lexer": "ipython3",
  "version": 3,
  "kernelspec": {
   "name": "python37664bitsensorizationpipenvb08871551dee4fca81bab2404db1909d",
   "display_name": "Python 3.7.6 64-bit ('Sensorization': pipenv)"
  }
 },
 "cells": [
  {
   "cell_type": "markdown",
   "metadata": {},
   "source": [
    "# TP2 - Sistemas Autónomos\n",
    "#### \"Monitorização de parâmetros ambientais para prática de desporto nas melhores condições\""
   ],
   "execution_count": null,
   "outputs": []
  },
  {
   "cell_type": "markdown",
   "metadata": {},
   "source": [
    "## Import Libraries"
   ],
   "execution_count": null,
   "outputs": []
  },
  {
   "cell_type": "code",
   "execution_count": null,
   "metadata": {},
   "outputs": [],
   "source": [
    "import sys\n",
    "import config\n",
    "import firebase_admin\n",
    "from firebase_admin import auth, credentials, firestore\n",
    "import pandas as pd"
   ]
  },
  {
   "cell_type": "markdown",
   "metadata": {},
   "source": [
    "## Get the Data\n"
   ],
   "execution_count": null,
   "outputs": []
  },
  {
   "cell_type": "markdown",
   "metadata": {},
   "source": [
    "### Get the Database from Cloud Firestore"
   ],
   "execution_count": null,
   "outputs": []
  },
  {
   "cell_type": "code",
   "execution_count": null,
   "metadata": {},
   "outputs": [],
   "source": [
    "# Get the key\n",
    "cred = credentials.Certificate(config.firestore_key)\n",
    "\n",
    "# Initialize the default app\n",
    "try:\n",
    "    default_app = firebase_admin.initialize_app(cred)\n",
    "except:\n",
    "    default_app = firebase_admin.get_app()\n",
    "\n",
    "# Get the database\n",
    "db = firestore.client()"
   ]
  },
  {
   "cell_type": "markdown",
   "metadata": {},
   "source": [
    "### Get the 'UV' collection\n"
   ],
   "execution_count": null,
   "outputs": []
  },
  {
   "cell_type": "code",
   "execution_count": null,
   "metadata": {},
   "outputs": [],
   "source": [
    "uv_ref = db.collection(u'UV')\n",
    "docs = uv_ref.stream()\n",
    "\n",
    "values_list = []\n",
    "\n",
    "for doc in docs:\n",
    "    params = doc.to_dict()\n",
    "    values_list.append([doc.id,params['uv'],params['uv_time'],params['uv_max'],params['uv_max_time'],params['st1'],params['st2'],params['st3'],params['st4'],params['st5'],params['st6']])\n",
    "\n",
    "uv_data = pd.DataFrame(values_list,columns=['date','uv','uv_time','uv_max','uv_max_time','st1','st2','st3','st4','st5','st6'])\n",
    "\n",
    "uv_data.head()"
   ]
  },
  {
   "cell_type": "markdown",
   "metadata": {},
   "source": [
    "### Get the 'WM' collection"
   ],
   "execution_count": null,
   "outputs": []
  },
  {
   "cell_type": "code",
   "execution_count": null,
   "metadata": {},
   "outputs": [],
   "source": [
    "wm_ref = db.collection(u'WM')\n",
    "docs = wm_ref.stream()\n",
    "\n",
    "values_list = []\n",
    "\n",
    "for doc in docs:\n",
    "    params = doc.to_dict()\n",
    "    values_list.append([doc.id,params['feels_like'],params['general_weather'],params['humidity'],params['pressure'],params['temp_max'],params['temp_min'],params['wind_deg'],params['wind_speed']])\n",
    "\n",
    "wm_data = pd.DataFrame(values_list,columns=['date','feels_like','general_weather','humidity','pressure','temp_max','temp_min','wind_deg',\"wind_speed\"])\n",
    "\n",
    "wm_data.head()"
   ]
  },
  {
   "cell_type": "markdown",
   "metadata": {},
   "source": [
    "### Get the 'AQ' collection"
   ],
   "execution_count": null,
   "outputs": []
  },
  {
   "cell_type": "code",
   "execution_count": null,
   "metadata": {},
   "outputs": [],
   "source": [
    "aq_ref = db.collection(u'AQ')\n",
    "docs = aq_ref.stream()\n",
    "\n",
    "values_list = []\n",
    "\n",
    "for doc in docs:\n",
    "    params = doc.to_dict()\n",
    "    values_list.append([doc.id,params['no2'],params['o3'],params['pm10']])\n",
    "\n",
    "aq_data = pd.DataFrame(values_list,columns=['date','no2','o3','pm10'])\n",
    "\n",
    "aq_data.head()"
   ]
  },
  {
   "cell_type": "code",
   "execution_count": null,
   "metadata": {},
   "outputs": [],
   "source": []
  },
  {
   "cell_type": "markdown",
   "metadata": {},
   "source": [
    "## Exploratory Data Analysis"
   ],
   "execution_count": null,
   "outputs": []
  }
 ]
}