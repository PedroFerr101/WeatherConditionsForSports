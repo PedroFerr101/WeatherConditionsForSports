{
 "nbformat": 4,
 "nbformat_minor": 2,
 "metadata": {
  "language_info": {
   "name": "python",
   "codemirror_mode": {
    "name": "ipython",
    "version": 3
   },
   "version": "3.7.6-final"
  },
  "orig_nbformat": 2,
  "file_extension": ".py",
  "mimetype": "text/x-python",
  "name": "python",
  "npconvert_exporter": "python",
  "pygments_lexer": "ipython3",
  "version": 3,
  "kernelspec": {
   "name": "python37664bitsensorizationpipenvb08871551dee4fca81bab2404db1909d",
   "display_name": "Python 3.7.6 64-bit ('Sensorization': pipenv)"
  }
 },
 "cells": [
  {
   "cell_type": "markdown",
   "metadata": {},
   "source": [
    "# TP2 - Sistemas Autónomos\n",
    "#### \"Monitorização de parâmetros ambientais para a prática de desporto\""
   ],
   "execution_count": null,
   "outputs": []
  },
  {
   "cell_type": "markdown",
   "metadata": {},
   "source": [
    "## Import Libraries"
   ],
   "execution_count": null,
   "outputs": []
  },
  {
   "cell_type": "code",
   "execution_count": null,
   "metadata": {},
   "outputs": [],
   "source": [
    "import sys\n",
    "import config\n",
    "import firebase_admin\n",
    "from firebase_admin import auth, credentials, firestore\n",
    "import pandas as pd\n",
    "import seaborn as sns\n",
    "import re\n",
    "import matplotlib.pyplot as plt"
   ]
  },
  {
   "cell_type": "markdown",
   "metadata": {},
   "source": [
    "## Get the Data\n"
   ],
   "execution_count": null,
   "outputs": []
  },
  {
   "cell_type": "markdown",
   "metadata": {},
   "source": [
    "### Get the Database from Cloud Firestore"
   ],
   "execution_count": null,
   "outputs": []
  },
  {
   "cell_type": "code",
   "execution_count": null,
   "metadata": {},
   "outputs": [],
   "source": [
    "# Get the key\n",
    "cred = credentials.Certificate(config.firestore_key)\n",
    "\n",
    "# Initialize/Get the app\n",
    "try:\n",
    "    app = firebase_admin.initialize_app(cred)\n",
    "except:\n",
    "    app = firebase_admin.get_app()\n",
    "\n",
    "# Get the database\n",
    "db = firestore.client()"
   ]
  },
  {
   "cell_type": "markdown",
   "metadata": {},
   "source": [
    "### Get the 'WM', 'UV' and 'AQ' collections"
   ],
   "execution_count": null,
   "outputs": []
  },
  {
   "cell_type": "code",
   "execution_count": null,
   "metadata": {},
   "outputs": [],
   "source": [
    "# ------- Open Weather Map -------\n",
    "\n",
    "dataWM = pd.DataFrame(columns=['year','month','day','hours','minutes','hours.minutes','temperature','general_weather','humidity','pressure','temp_min','temp_max','wind_speed'])\n",
    "\n",
    "wm_ref = db.collection(u'WM')\n",
    "docsWM = wm_ref.stream()\n",
    "\n",
    "# general_weather tem que se meter em integer, mas temos que decidir se continuamos a extrair o \"description\" ou o \"main\" no momento do request\n",
    "\n",
    "for doc in docsWM:\n",
    "    params = doc.to_dict()\n",
    "    datetime = re.split(r'[-T:]',doc.id)\n",
    "    perc_minutes = int(datetime[3])+(0.0167*int(datetime[4])) # precisava de ter os minutos adaptados para a unidade da hora\n",
    "    dataWM = dataWM.append({'year':int(datetime[0]),'month':int(datetime[1]) ,'day':int(datetime[2]), 'hours':int(datetime[3]), 'minutes': int(datetime[4]), 'hours.minutes': perc_minutes, 'temperature': float(params['feels_like'])-273.15, 'general_weather':params['general_weather'], 'humidity': int(params['humidity']), 'pressure': int(params['pressure']), 'temp_min': float(params['temp_min'])-273.15, 'temp_max': float(params['temp_max'])-273.15, 'wind_speed': float(params['wind_speed'])}, ignore_index=True)\n",
    "\n",
    "\n",
    "# ------- Open UV -------\n",
    "\n",
    "dataUV = pd.DataFrame(columns=['uv','uv_time','uv_max','uv_max_time','st1','st2','st3','st4','st5','st6'])\n",
    "\n",
    "uv_ref = db.collection(u'UV')\n",
    "docsUV = uv_ref.stream()\n",
    "\n",
    "for doc in docsUV:\n",
    "    params = doc.to_dict()\n",
    "    dataUV = dataUV.append({'uv': float(params['uv']), 'uv_time': params['uv_time'], 'uv_max': float(params['uv_max']), 'uv_max_time': params['uv_max_time'], 'st1': params['st1'], 'st2': params['st2'], 'st3': params['st3'], 'st4': params['st4'], 'st5': params['st5'], 'st6': params['st6']}, ignore_index=True)\n",
    "\n",
    "\n",
    "# ------- Open AQ -------\n",
    "\n",
    "dataAQ = pd.DataFrame(columns=['no2','o3','pm10'])\n",
    "\n",
    "aq_ref = db.collection(u'AQ')\n",
    "docsAQ = aq_ref.stream()\n",
    "\n",
    "for doc in docsAQ:\n",
    "    params = doc.to_dict()\n",
    "    dataAQ = dataAQ.append({'no2': int(params['no2']), 'o3': int(params['o3']), 'pm10': int(params['pm10'])}, ignore_index=True)\n",
    "\n",
    "\n",
    "data = pd.concat([dataWM, dataUV, dataAQ], axis=1)\n",
    "data.head()\n"
   ]
  },
  {
   "cell_type": "code",
   "execution_count": null,
   "metadata": {},
   "outputs": [],
   "source": [
    "data.info()"
   ]
  },
  {
   "cell_type": "markdown",
   "metadata": {},
   "source": [
    "## Exploratory Data Analysis"
   ],
   "execution_count": null,
   "outputs": []
  },
  {
   "cell_type": "code",
   "execution_count": null,
   "metadata": {},
   "outputs": [],
   "source": [
    "sns.set_palette(\"GnBu_d\")\n",
    "sns.set_style('whitegrid')"
   ]
  },
  {
   "cell_type": "code",
   "execution_count": null,
   "metadata": {},
   "outputs": [],
   "source": [
    "\n",
    "sns.jointplot(x='hours.minutes', y='temperature', data=data)\n",
    ""
   ]
  },
  {
   "cell_type": "code",
   "execution_count": null,
   "metadata": {},
   "outputs": [],
   "source": [
    "sns.jointplot(x='hours.minutes', y='uv', data=data)\n",
    ""
   ]
  },
  {
   "cell_type": "code",
   "execution_count": null,
   "metadata": {},
   "outputs": [],
   "source": [
    "sns.jointplot(x='hours.minutes', y='o3', data=data)"
   ]
  }
 ]
}