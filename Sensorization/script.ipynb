{
 "nbformat": 4,
 "nbformat_minor": 2,
 "metadata": {
  "language_info": {
   "name": "python",
   "codemirror_mode": {
    "name": "ipython",
    "version": 3
   },
   "version": "3.7.6-final"
  },
  "orig_nbformat": 2,
  "file_extension": ".py",
  "mimetype": "text/x-python",
  "name": "python",
  "npconvert_exporter": "python",
  "pygments_lexer": "ipython3",
  "version": 3,
  "kernelspec": {
   "name": "python37664bitsensorizationpipenvb08871551dee4fca81bab2404db1909d",
   "display_name": "Python 3.7.6 64-bit ('Sensorization': pipenv)"
  }
 },
 "cells": [
  {
   "cell_type": "markdown",
   "metadata": {},
   "source": [
    "# TP2 - Sistemas Autónomos\n",
    "#### \"Monitorização de parâmetros ambientais para a prática de desporto\""
   ],
   "execution_count": null,
   "outputs": []
  },
  {
   "cell_type": "markdown",
   "metadata": {},
   "source": [
    "## Import Libraries"
   ],
   "execution_count": null,
   "outputs": []
  },
  {
   "cell_type": "code",
   "execution_count": null,
   "metadata": {},
   "outputs": [],
   "source": [
    "import sys\n",
    "import config\n",
    "import firebase_admin\n",
    "from firebase_admin import auth, credentials, firestore\n",
    "import pandas as pd\n",
    "import seaborn as sns\n",
    "import re\n",
    "import matplotlib.pyplot as plt"
   ]
  },
  {
   "cell_type": "markdown",
   "metadata": {},
   "source": [
    "## Get the Data\n"
   ],
   "execution_count": null,
   "outputs": []
  },
  {
   "cell_type": "markdown",
   "metadata": {},
   "source": [
    "### Get the Database from Cloud Firestore"
   ],
   "execution_count": null,
   "outputs": []
  },
  {
   "cell_type": "code",
   "execution_count": null,
   "metadata": {},
   "outputs": [],
   "source": [
    "# Get the key\n",
    "cred = credentials.Certificate(config.firestore_key)\n",
    "\n",
    "# Initialize/Get the app\n",
    "try:\n",
    "    app = firebase_admin.initialize_app(cred)\n",
    "except:\n",
    "    app = firebase_admin.get_app()\n",
    "\n",
    "# Get the database\n",
    "db = firestore.client()"
   ]
  },
  {
   "cell_type": "markdown",
   "metadata": {},
   "source": [
    "### Get the 'WM' collection"
   ],
   "execution_count": null,
   "outputs": []
  },
  {
   "cell_type": "code",
   "execution_count": null,
   "metadata": {},
   "outputs": [],
   "source": [
    "wm_ref = db.collection(u'WM')\n",
    "docs = wm_ref.stream()\n",
    "\n",
    "values_list = []\n",
    "\n",
    "# general_weather tem que se meter em integer, mas temos que decidir se continuamos a extrair o \"description\" ou o \"main\" no momento do request\n",
    "\n",
    "for doc in docs:\n",
    "    params = doc.to_dict()\n",
    "    datetime = re.split(r'[-T:]',doc.id)\n",
    "    perc_minutes = int(datetime[3])+(0.0167*int(datetime[4])) # precisava de ter os minutos adaptados para a unidade da hora\n",
    "    values_list.append([int(datetime[0]),int(datetime[1]),int(datetime[2]),int(datetime[3]),int(datetime[4]),perc_minutes,float(params['feels_like'])-273.15,params['general_weather'],int(params['humidity']),int(params['pressure']),float(params['temp_max'])-273.15,float(params['temp_min'])-273.15,float(params['wind_speed'])])\n",
    "\n",
    "wm_data = pd.DataFrame(values_list,columns=['year','month','day','hours','minutes','hours.minutes','feels_like','general_weather','humidity','pressure','temp_max','temp_min','wind_speed'])\n",
    "\n",
    "wm_data.head()"
   ]
  },
  {
   "cell_type": "code",
   "execution_count": null,
   "metadata": {},
   "outputs": [],
   "source": [
    "wm_data.info()"
   ]
  },
  {
   "cell_type": "markdown",
   "metadata": {},
   "source": [
    "### Get the 'UV' collection\n"
   ],
   "execution_count": null,
   "outputs": []
  },
  {
   "cell_type": "code",
   "execution_count": null,
   "metadata": {},
   "outputs": [],
   "source": [
    "uv_ref = db.collection(u'UV')\n",
    "docs = uv_ref.stream()\n",
    "\n",
    "values_list = []\n",
    "\n",
    "# falta tratar dos types de alguns parametros\n",
    "\n",
    "for doc in docs:\n",
    "    params = doc.to_dict()\n",
    "    datetime = re.split(r'[-T:]',doc.id)\n",
    "    perc_minutes = int(datetime[3])+(0.0167*int(datetime[4])) # precisava de ter os minutos adaptados para a unidade da hora\n",
    "    values_list.append([int(datetime[0]),int(datetime[1]),int(datetime[2]),int(datetime[3]),int(datetime[4]),perc_minutes,float(params['uv']),params['uv_time'],float(params['uv_max']),params['uv_max_time'],params['st1'],params['st2'],params['st3'],params['st4'],params['st5'],params['st6']])\n",
    "\n",
    "uv_data = pd.DataFrame(values_list,columns=['year','month','day','hours','minutes','hours.minutes','uv','uv_time','uv_max','uv_max_time','st1','st2','st3','st4','st5','st6'])\n",
    "\n",
    "uv_data.head()"
   ]
  },
  {
   "cell_type": "code",
   "execution_count": null,
   "metadata": {},
   "outputs": [],
   "source": [
    "uv_data.info()"
   ]
  },
  {
   "cell_type": "markdown",
   "metadata": {},
   "source": [
    "### Get the 'AQ' collection"
   ],
   "execution_count": null,
   "outputs": []
  },
  {
   "cell_type": "code",
   "execution_count": null,
   "metadata": {},
   "outputs": [],
   "source": [
    "aq_ref = db.collection(u'AQ')\n",
    "docs = aq_ref.stream()\n",
    "\n",
    "values_list = []\n",
    "\n",
    "for doc in docs:\n",
    "    params = doc.to_dict()\n",
    "    datetime = re.split(r'[-T:]',doc.id)\n",
    "    perc_minutes = int(datetime[3])+(0.0167*int(datetime[4]))# precisava de ter os minutos adaptados para a unidade da hora\n",
    "    values_list.append([int(datetime[0]),int(datetime[1]),int(datetime[2]),int(datetime[3]),int(datetime[4]),perc_minutes,int(params['no2']),int(params['o3']),int(params['pm10'])])\n",
    "\n",
    "aq_data = pd.DataFrame(values_list,columns=['year','month','day','hours','minutes','hours.minutes','no2','o3','pm10'])\n",
    "\n",
    "aq_data.head()"
   ]
  },
  {
   "cell_type": "code",
   "execution_count": null,
   "metadata": {},
   "outputs": [],
   "source": [
    "aq_data.info()"
   ]
  },
  {
   "cell_type": "markdown",
   "metadata": {},
   "source": [
    "## Exploratory Data Analysis"
   ],
   "execution_count": null,
   "outputs": []
  },
  {
   "cell_type": "code",
   "execution_count": null,
   "metadata": {},
   "outputs": [],
   "source": [
    "sns.set_palette(\"GnBu_d\")\n",
    "sns.set_style('whitegrid')"
   ]
  },
  {
   "cell_type": "code",
   "execution_count": null,
   "metadata": {},
   "outputs": [],
   "source": [
    "\n",
    "sns.jointplot(x='hours.minutes', y='feels_like', data=wm_data)\n",
    ""
   ]
  },
  {
   "cell_type": "code",
   "execution_count": null,
   "metadata": {},
   "outputs": [],
   "source": [
    "sns.jointplot(x='hours.minutes', y='uv', data=uv_data)\n",
    ""
   ]
  },
  {
   "cell_type": "code",
   "execution_count": null,
   "metadata": {},
   "outputs": [],
   "source": [
    "sns.jointplot(x='hours.minutes', y='o3', data=aq_data)"
   ]
  },
  {
   "cell_type": "code",
   "execution_count": null,
   "metadata": {},
   "outputs": [],
   "source": []
  }
 ]
}