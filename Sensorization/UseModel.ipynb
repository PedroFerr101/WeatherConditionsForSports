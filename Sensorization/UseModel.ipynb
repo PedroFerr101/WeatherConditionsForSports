{
 "cells": [
  {
   "cell_type": "markdown",
   "metadata": {},
   "source": [
    "# TP2 - Sistemas Autónomos\n",
    "#### \"Monitorização de parâmetros ambientais para a prática de desporto\""
   ]
  },
  {
   "cell_type": "markdown",
   "metadata": {},
   "source": [
    "## Import Libraries"
   ]
  },
  {
   "cell_type": "code",
   "execution_count": 48,
   "metadata": {},
   "outputs": [],
   "source": [
    "import sys\n",
    "import config\n",
    "import firebase_admin\n",
    "from firebase_admin import auth, credentials, firestore\n",
    "import numpy as np\n",
    "import pandas as pd\n",
    "from sklearn.preprocessing import MinMaxScaler\n",
    "from sklearn.metrics import mean_squared_error, mean_absolute_error\n",
    "import tensorflow as tf\n",
    "import matplotlib.pyplot as plt\n",
    "import pprint\n",
    "from keras.callbacks import ModelCheckpoint\n",
    "import math\n",
    "pp = pprint.PrettyPrinter()"
   ]
  },
  {
   "cell_type": "markdown",
   "metadata": {},
   "source": [
    "## Get the Data\n"
   ]
  },
  {
   "cell_type": "code",
   "execution_count": 49,
   "metadata": {},
   "outputs": [],
   "source": [
    "# Get the key\n",
    "cred = credentials.Certificate(config.firestore_key)\n",
    "\n",
    "# Initialize/Get the app\n",
    "try:\n",
    "    app = firebase_admin.initialize_app(cred)\n",
    "except:\n",
    "    app = firebase_admin.get_app()\n",
    "\n",
    "# Get the database\n",
    "db = firestore.client()\n",
    "\n",
    "pd.set_option('display.max_columns', None)\n",
    "\n",
    "# ------- Open Weather Map -------\n",
    "\n",
    "dataWM = pd.DataFrame(columns=['feels_like','general_weather','humidity','pressure','temp','temp_min','temp_max','wind_speed'])\n",
    "\n",
    "wm_ref = db.collection(u'WM')\n",
    "docsWM = wm_ref.stream()\n",
    "\n",
    "for doc in docsWM:\n",
    "    params = doc.to_dict()\n",
    "    dataWM = dataWM.append({'feels_like': float(params['feels_like'])-273.15, 'general_weather':params['general_weather'], 'humidity': int(params['humidity']), 'pressure': int(params['pressure']),'temp_min': float(params['temp_min'])-273.15, 'temp_max': float(params['temp_max'])-273.15, 'wind_speed': float(params['wind_speed'])}, ignore_index=True) # falta \"'temp_min': float(params['temp_min'])-273.15,\"\n",
    "\n",
    "\n",
    "# ------- Open UV -------\n",
    "\n",
    "dataUV = pd.DataFrame(columns=['uv','uv_time','uv_max','uv_max_time','st1','st2','st3','st4','st5','st6'])\n",
    "\n",
    "uv_ref = db.collection(u'UV')\n",
    "docsUV = uv_ref.stream()\n",
    "\n",
    "for doc in docsUV:\n",
    "    params = doc.to_dict()\n",
    "    dataUV = dataUV.append({'uv': float(params['uv']), 'uv_time': params['uv_time'], 'uv_max': float(params['uv_max']), 'uv_max_time': params['uv_max_time'], 'st1': params['st1'], 'st2': params['st2'], 'st3': params['st3'], 'st4': params['st4'], 'st5': params['st5'], 'st6': params['st6']}, ignore_index=True)\n",
    "\n"
   ]
  },
  {
   "cell_type": "markdown",
   "metadata": {},
   "source": [
    "## Create Dataframes and normalize"
   ]
  },
  {
   "cell_type": "code",
   "execution_count": 50,
   "metadata": {},
   "outputs": [],
   "source": [
    "def prepare_data(df):\n",
    "    feels_like_history = df[['feels_like']]\n",
    "    humidity_history = df[['humidity']]\n",
    "    return feels_like_history, humidity_history\n",
    "\n",
    "def prepare_uv_data(df):\n",
    "    uv_history = df[['uv']]\n",
    "    return uv_history\n",
    "\n",
    "def normalize_weather_data(df):\n",
    "    scaler = MinMaxScaler(feature_range=(0, 1))\n",
    "    df = scaler.fit_transform(df[['feels_like']])\n",
    "    return scaler, df\n",
    "\n",
    "def normalize_humidity_data(df):\n",
    "    scaler = MinMaxScaler(feature_range=(0, 1))\n",
    "    df = scaler.fit_transform(df[['humidity']])\n",
    "    return scaler, df\n",
    "\n",
    "def normalize_uv_data(df):\n",
    "    scaler = MinMaxScaler(feature_range=(0, 1))\n",
    "    df = scaler.fit_transform(df[['uv']])\n",
    "    return scaler, df\n",
    "\n",
    "df, df_h = prepare_data(dataWM)\n",
    "df_u = prepare_uv_data(dataUV)\n",
    "\n",
    "scaler, df = normalize_weather_data(df)\n",
    "scaler_h, df_h = normalize_humidity_data(df_h)\n",
    "scaler_u, df_u = normalize_uv_data(df_u)\n",
    "\n"
   ]
  },
  {
   "cell_type": "markdown",
   "metadata": {},
   "source": [
    "## Dataset supervised train"
   ]
  },
  {
   "cell_type": "code",
   "execution_count": 51,
   "metadata": {},
   "outputs": [
    {
     "name": "stdout",
     "output_type": "stream",
     "text": [
      "(914, 168, 1)\n",
      "(914, 1)\n"
     ]
    }
   ],
   "source": [
    "def to_supervised(df, timesteps):\n",
    "    data = df  # array de arrays com os valores\n",
    "    X, y = list(), list()\n",
    "    dataset_size = len(data)  # nr de linhas\n",
    "    for curr_pos in range(dataset_size):\n",
    "        input_index = curr_pos+timesteps\n",
    "        label_index = input_index+1\n",
    "        if label_index < dataset_size:\n",
    "            X.append(data[curr_pos:input_index, :])\n",
    "            y.append(data[input_index:label_index, 0])\n",
    "    return np.array(X), np.array(y)\n",
    "\n",
    "timesteps = 168 # 24 registos de temperatura capturados ao longo de 7 dias\n",
    "X, y = to_supervised(df, timesteps)\n",
    "X_h, y_h = to_supervised(df_h, timesteps)\n",
    "X_u, y_u = to_supervised(df_u, timesteps)\n",
    "\n"
   ]
  },
  {
   "cell_type": "markdown",
   "metadata": {},
   "source": [
    "## LSTM"
   ]
  },
  {
   "cell_type": "code",
   "execution_count": 52,
   "metadata": {},
   "outputs": [
    {
     "name": "stdout",
     "output_type": "stream",
     "text": [
      "Model: \"sequential_21\"\n",
      "_________________________________________________________________\n",
      "Layer (type)                 Output Shape              Param #   \n",
      "=================================================================\n",
      "lstm_84 (LSTM)               (None, 168, 64)           16896     \n",
      "_________________________________________________________________\n",
      "lstm_85 (LSTM)               (None, 168, 128)          98816     \n",
      "_________________________________________________________________\n",
      "lstm_86 (LSTM)               (None, 168, 128)          131584    \n",
      "_________________________________________________________________\n",
      "lstm_87 (LSTM)               (None, 128)               131584    \n",
      "_________________________________________________________________\n",
      "dense_42 (Dense)             (None, 64)                8256      \n",
      "_________________________________________________________________\n",
      "dropout_21 (Dropout)         (None, 64)                0         \n",
      "_________________________________________________________________\n",
      "dense_43 (Dense)             (None, 1)                 65        \n",
      "=================================================================\n",
      "Total params: 387,201\n",
      "Trainable params: 387,201\n",
      "Non-trainable params: 0\n",
      "_________________________________________________________________\n",
      "None\n",
      "Model: \"sequential_22\"\n",
      "_________________________________________________________________\n",
      "Layer (type)                 Output Shape              Param #   \n",
      "=================================================================\n",
      "lstm_88 (LSTM)               (None, 168, 64)           16896     \n",
      "_________________________________________________________________\n",
      "lstm_89 (LSTM)               (None, 168, 128)          98816     \n",
      "_________________________________________________________________\n",
      "lstm_90 (LSTM)               (None, 168, 128)          131584    \n",
      "_________________________________________________________________\n",
      "lstm_91 (LSTM)               (None, 128)               131584    \n",
      "_________________________________________________________________\n",
      "dense_44 (Dense)             (None, 64)                8256      \n",
      "_________________________________________________________________\n",
      "dropout_22 (Dropout)         (None, 64)                0         \n",
      "_________________________________________________________________\n",
      "dense_45 (Dense)             (None, 1)                 65        \n",
      "=================================================================\n",
      "Total params: 387,201\n",
      "Trainable params: 387,201\n",
      "Non-trainable params: 0\n",
      "_________________________________________________________________\n",
      "None\n",
      "Model: \"sequential_23\"\n",
      "_________________________________________________________________\n",
      "Layer (type)                 Output Shape              Param #   \n",
      "=================================================================\n",
      "lstm_92 (LSTM)               (None, 168, 64)           16896     \n",
      "_________________________________________________________________\n",
      "lstm_93 (LSTM)               (None, 168, 128)          98816     \n",
      "_________________________________________________________________\n",
      "lstm_94 (LSTM)               (None, 168, 128)          131584    \n",
      "_________________________________________________________________\n",
      "lstm_95 (LSTM)               (None, 128)               131584    \n",
      "_________________________________________________________________\n",
      "dense_46 (Dense)             (None, 64)                8256      \n",
      "_________________________________________________________________\n",
      "dropout_23 (Dropout)         (None, 64)                0         \n",
      "_________________________________________________________________\n",
      "dense_47 (Dense)             (None, 1)                 65        \n",
      "=================================================================\n",
      "Total params: 387,201\n",
      "Trainable params: 387,201\n",
      "Non-trainable params: 0\n",
      "_________________________________________________________________\n",
      "None\n"
     ]
    }
   ],
   "source": [
    "timesteps = 168\n",
    "features = 1\n",
    "\n",
    "def build_model(timesteps, features, dropout_rate=0):\n",
    "    model = tf.keras.Sequential()\n",
    "    model.add(tf.keras.layers.LSTM(64, return_sequences=True,\n",
    "                                   input_shape=(timesteps, features)))\n",
    "    model.add(tf.keras.layers.LSTM(\n",
    "        128, return_sequences=True, dropout=dropout_rate))\n",
    "    model.add(tf.keras.layers.LSTM(\n",
    "        128, return_sequences=True, dropout=dropout_rate))\n",
    "    model.add(tf.keras.layers.LSTM(\n",
    "        128, return_sequences=False, dropout=dropout_rate))\n",
    "    model.add(tf.keras.layers.Dense(64, activation='sigmoid'))\n",
    "    model.add(tf.keras.layers.Dropout(dropout_rate))\n",
    "    model.add(tf.keras.layers.Dense(features, activation='linear'))\n",
    "    model.compile(\n",
    "        loss=tf.keras.losses.mse,\n",
    "        optimizer=tf.keras.optimizers.Adam(),\n",
    "        metrics=['accuracy'])\n",
    "    print(model.summary())\n",
    "    return model\n",
    "\n",
    "model = build_model(timesteps, features)\n",
    "model.load_weights('best_weights_weather.hdf5')\n",
    "\n",
    "model_h = build_model(timesteps, features)\n",
    "model_h.load_weights('best_weights_humidity.hdf5')\n",
    "\n",
    "model_u = build_model(timesteps, features)\n",
    "model_u.load_weights('best_weights_uv.hdf5')\n"
   ]
  },
  {
   "cell_type": "markdown",
   "metadata": {},
   "source": [
    "## Forecast"
   ]
  },
  {
   "cell_type": "code",
   "execution_count": 53,
   "metadata": {},
   "outputs": [],
   "source": [
    "multistep = 24\n",
    "\n",
    "def forecast(model, df, timesteps, multisteps, scaler):\n",
    "    input_seq = df[-timesteps:]\n",
    "    inp = input_seq\n",
    "    predictions = list()\n",
    "    \n",
    "    for step in range(1, multisteps+1):\n",
    "        inp = inp.reshape(1, timesteps, 1)\n",
    "        yhat = model.predict(inp, verbose=1)\n",
    "        yhat_inversed = scaler.inverse_transform(yhat)\n",
    "        predictions.append(yhat_inversed[0][0])\n",
    "        inp = np.append(inp[0], yhat)\n",
    "        inp = inp[-timesteps:]\n",
    "    return predictions\n"
   ]
  },
  {
   "cell_type": "markdown",
   "metadata": {},
   "source": [
    "#### Plot weather forecasted for next 24 h"
   ]
  },
  {
   "cell_type": "code",
   "execution_count": 54,
   "metadata": {},
   "outputs": [
    {
     "name": "stdout",
     "output_type": "stream",
     "text": [
      "1/1 [==============================] - 3s 3s/sample\n",
      "1/1 [==============================] - 0s 116ms/sample\n",
      "1/1 [==============================] - 0s 90ms/sample\n",
      "1/1 [==============================] - 0s 75ms/sample\n",
      "1/1 [==============================] - 0s 102ms/sample\n",
      "1/1 [==============================] - 0s 102ms/sample\n",
      "1/1 [==============================] - 0s 126ms/sample\n",
      "1/1 [==============================] - 0s 87ms/sample\n",
      "1/1 [==============================] - 0s 89ms/sample\n",
      "1/1 [==============================] - 0s 96ms/sample\n",
      "1/1 [==============================] - 0s 102ms/sample\n",
      "1/1 [==============================] - 0s 86ms/sample\n",
      "1/1 [==============================] - 0s 78ms/sample\n",
      "1/1 [==============================] - 0s 60ms/sample\n",
      "1/1 [==============================] - 0s 65ms/sample\n",
      "1/1 [==============================] - 0s 69ms/sample\n",
      "1/1 [==============================] - 0s 59ms/sample\n",
      "1/1 [==============================] - 0s 55ms/sample\n",
      "1/1 [==============================] - 0s 60ms/sample\n",
      "1/1 [==============================] - 0s 52ms/sample\n",
      "1/1 [==============================] - 0s 57ms/sample\n",
      "1/1 [==============================] - 0s 62ms/sample\n",
      "1/1 [==============================] - 0s 66ms/sample\n",
      "1/1 [==============================] - 0s 65ms/sample\n"
     ]
    }
   ],
   "source": [
    "predictionsWeatherNext24 = forecast(model, df, timesteps, multistep, scaler)"
   ]
  },
  {
   "cell_type": "markdown",
   "metadata": {},
   "source": [
    "#### Plot humidity forecasted for next 24 h"
   ]
  },
  {
   "cell_type": "code",
   "execution_count": 55,
   "metadata": {},
   "outputs": [
    {
     "name": "stdout",
     "output_type": "stream",
     "text": [
      "1/1 [==============================] - 4s 4s/sample\n",
      "1/1 [==============================] - 0s 111ms/sample\n",
      "1/1 [==============================] - 0s 90ms/sample\n",
      "1/1 [==============================] - 0s 84ms/sample\n",
      "1/1 [==============================] - 0s 83ms/sample\n",
      "1/1 [==============================] - 0s 70ms/sample\n",
      "1/1 [==============================] - 0s 68ms/sample\n",
      "1/1 [==============================] - 0s 64ms/sample\n",
      "1/1 [==============================] - 0s 64ms/sample\n",
      "1/1 [==============================] - 0s 85ms/sample\n",
      "1/1 [==============================] - 0s 57ms/sample\n",
      "1/1 [==============================] - 0s 68ms/sample\n",
      "1/1 [==============================] - 0s 54ms/sample\n",
      "1/1 [==============================] - 0s 55ms/sample\n",
      "1/1 [==============================] - 0s 56ms/sample\n",
      "1/1 [==============================] - 0s 100ms/sample\n",
      "1/1 [==============================] - 0s 73ms/sample\n",
      "1/1 [==============================] - 0s 59ms/sample\n",
      "1/1 [==============================] - 0s 71ms/sample\n",
      "1/1 [==============================] - 0s 65ms/sample\n",
      "1/1 [==============================] - 0s 62ms/sample\n",
      "1/1 [==============================] - 0s 58ms/sample\n",
      "1/1 [==============================] - 0s 72ms/sample\n",
      "1/1 [==============================] - 0s 60ms/sample\n"
     ]
    }
   ],
   "source": [
    "predictionsHumidityNext24 = forecast(model_h, df_h, timesteps, multistep, scaler_h)"
   ]
  },
  {
   "cell_type": "markdown",
   "metadata": {},
   "source": [
    "#### Plot UV forecasted for next 24 h"
   ]
  },
  {
   "cell_type": "code",
   "execution_count": 56,
   "metadata": {},
   "outputs": [
    {
     "name": "stdout",
     "output_type": "stream",
     "text": [
      "1/1 [==============================] - 2s 2s/sample\n",
      "1/1 [==============================] - 0s 65ms/sample\n",
      "1/1 [==============================] - 0s 57ms/sample\n",
      "1/1 [==============================] - 0s 63ms/sample\n",
      "1/1 [==============================] - 0s 59ms/sample\n",
      "1/1 [==============================] - 0s 64ms/sample\n",
      "1/1 [==============================] - 0s 66ms/sample\n",
      "1/1 [==============================] - 0s 60ms/sample\n",
      "1/1 [==============================] - 0s 72ms/sample\n",
      "1/1 [==============================] - 0s 76ms/sample\n",
      "1/1 [==============================] - 0s 59ms/sample\n",
      "1/1 [==============================] - 0s 56ms/sample\n",
      "1/1 [==============================] - 0s 56ms/sample\n",
      "1/1 [==============================] - 0s 54ms/sample\n",
      "1/1 [==============================] - 0s 65ms/sample\n",
      "1/1 [==============================] - 0s 67ms/sample\n",
      "1/1 [==============================] - 0s 56ms/sample\n",
      "1/1 [==============================] - 0s 65ms/sample\n",
      "1/1 [==============================] - 0s 69ms/sample\n",
      "1/1 [==============================] - 0s 66ms/sample\n",
      "1/1 [==============================] - 0s 70ms/sample\n",
      "1/1 [==============================] - 0s 57ms/sample\n",
      "1/1 [==============================] - 0s 65ms/sample\n",
      "1/1 [==============================] - 0s 68ms/sample\n"
     ]
    }
   ],
   "source": [
    "predictionsUVNext24 = forecast(model_u, df_u, timesteps, multistep, scaler_u)"
   ]
  },
  {
   "cell_type": "markdown",
   "metadata": {},
   "source": [
    "## Classifying the predictions"
   ]
  },
  {
   "cell_type": "code",
   "execution_count": 57,
   "metadata": {},
   "outputs": [
    {
     "data": {
      "text/plain": [
       "[1, 3, 2, 2, 3, 3, 3, 3, 3, 3, 3, 3, 3, 3, 2, 1, 1, 2, 3, 3, 3, 3, 3, 3]"
      ]
     },
     "execution_count": 57,
     "metadata": {},
     "output_type": "execute_result"
    }
   ],
   "source": [
    "def weather_classifier(temp, humidity, uv):\n",
    "    labels = []\n",
    "\n",
    "    for i in range(24):\n",
    "        score = 0\n",
    "        \n",
    "        if(temp[i] >= 15 and temp[i] <= 20):\n",
    "            score = score + 3\n",
    "        elif(temp[i] >= 10 and temp[i] <= 15):\n",
    "            score = score + 2\n",
    "        elif(temp[i] < 10 or temp[i] > 20):\n",
    "            score = score - 1\n",
    "        elif(temp[i] < 5 or temp[i] > 25):\n",
    "            score = score - 2\n",
    "        \n",
    "        if(humidity[i] < 50):\n",
    "            score = score + 1\n",
    "        elif(humidity[i] > 80):\n",
    "            score = score - 2\n",
    "\n",
    "        if(uv[i] <= 3.0):\n",
    "            score = score + 2\n",
    "        elif(uv[i] <= 5.9):\n",
    "            score = score + 1\n",
    "        elif(uv[i] >= 8.0):\n",
    "            score = score - 1\n",
    "        \n",
    "        if(score >= 4):\n",
    "            labels.append(3)\n",
    "        elif(score < 4 and score >= 3):\n",
    "            labels.append(2)\n",
    "        elif(score < 3):\n",
    "            labels.append(1)\n",
    "    \n",
    "    return labels\n",
    "\n",
    "scores = weather_classifier(predictionsWeatherNext24, predictionsHumidityNext24, predictionsUVNext24)\n",
    "scores"
   ]
  },
  {
   "cell_type": "markdown",
   "metadata": {},
   "source": [
    "## Aggregate results"
   ]
  },
  {
   "cell_type": "code",
   "execution_count": 58,
   "metadata": {},
   "outputs": [
    {
     "data": {
      "text/plain": [
       "update_time {\n",
       "  seconds: 1589746224\n",
       "  nanos: 828289000\n",
       "}"
      ]
     },
     "execution_count": 58,
     "metadata": {},
     "output_type": "execute_result"
    }
   ],
   "source": [
    "import pytz\n",
    "from datetime import datetime\n",
    "\n",
    "\n",
    "last_hour = round(dataWM.iloc[-1:,5])\n",
    "\n",
    "hours = []\n",
    "for i in range(1,25):\n",
    "    hours.append((last_hour + i) % 24)\n",
    "\n",
    "\n",
    "data = {\n",
    "    u'hours': list(map(float, hours)),\n",
    "    u'weather_predictions': list(map(float,predictionsWeatherNext24)),\n",
    "    u'humidity_predictions': list(map(float,predictionsHumidityNext24)),\n",
    "    u'uv_predictions': list(map(float,predictionsUVNext24)),\n",
    "    u'scores': list(map(float,scores))\n",
    "}\n",
    "\n",
    "\n",
    "\n",
    "date_time = datetime.now()\n",
    "\n",
    "db.collection(u'Predictions').document(f'{date_time}').set(data)    \n",
    "\n"
   ]
  }
 ],
 "metadata": {
  "kernelspec": {
   "display_name": "Python 3",
   "language": "python",
   "name": "python3"
  },
  "language_info": {
   "codemirror_mode": {
    "name": "ipython",
    "version": 3
   },
   "file_extension": ".py",
   "mimetype": "text/x-python",
   "name": "python",
   "nbconvert_exporter": "python",
   "pygments_lexer": "ipython3",
   "version": "3.7.6"
  }
 },
 "nbformat": 4,
 "nbformat_minor": 2
}
